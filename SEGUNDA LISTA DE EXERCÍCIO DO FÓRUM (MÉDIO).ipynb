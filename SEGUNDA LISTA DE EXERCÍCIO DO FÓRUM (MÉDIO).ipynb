{
  "cells": [
    {
      "metadata": {
        "collapsed": true
      },
      "cell_type": "markdown",
      "source": "### Exercícios da segunda lista do fórum (média)"
    },
    {
      "metadata": {
        "trusted": true
      },
      "cell_type": "code",
      "source": "# Exercício 1\n\ndef soma (x,y):\n    return x+y\n\ndef subtracao (x,y):\n    return x-y\n\ndef multiplicacao (x,y):\n    return x*y\n\ndef divisao (x,y):\n    return x/y\n\ndef main():\n    pergunta = input(\"Deseja realizar qual operação matemática? (Digite o número correspondente a operação) 1-Soma, 2-Subtração, 3-Multiplicação, 4-Divisão   \")\n    valor1 = int (input(\"Digite o valor do primeiro número: \"))\n    valor2 = int (input(\"Digite o valto do segundo número: \"))\n    \n    if pergunta == '1':\n        print(\"O resultado é da soma é: \", soma(valor1, valor2))\n    elif pergunta == '2':\n        print(\"O resultado é da subtração é: \", subtracao(valor1, valor2))\n    elif pergunta == '3':\n        print(\"O resultado é da multiplicação é: \", multiplicacao(valor1, valor2))\n    elif pergunta == '4':\n        print(\"O resultado da divisão é: \", divisao(valor1, valor2))\n    else: \n        print(\"Escolha uma das opções válidas (soma, subtração, multiplicação ou divisão)\")\n\nmain()",
      "execution_count": null,
      "outputs": []
    },
    {
      "metadata": {
        "trusted": true
      },
      "cell_type": "code",
      "source": "#Exercício 2\n\ndef primo(x):\n    if x % 2 == 0 or x % 3 == 0 or x == '1':\n        print(\"Número não é primo\")\n    else:\n        print(\"Número primo\")\n        \ndef main():\n    contadorDosPrimos = 0\n    while(contadorDosPrimos <= 200):\n        valor = int(input(\"Digite o número: \"))\n        primo(valor)\n        if valor % 2 != 0 and valor % 3 != 0 and valor != '1':\n            contadorDosPrimos = contadorDosPrimos + valor\n\nmain()",
      "execution_count": null,
      "outputs": []
    }
  ],
  "metadata": {
    "kernelspec": {
      "name": "python36",
      "display_name": "Python 3.6",
      "language": "python"
    },
    "language_info": {
      "mimetype": "text/x-python",
      "nbconvert_exporter": "python",
      "name": "python",
      "pygments_lexer": "ipython3",
      "version": "3.6.6",
      "file_extension": ".py",
      "codemirror_mode": {
        "version": 3,
        "name": "ipython"
      }
    }
  },
  "nbformat": 4,
  "nbformat_minor": 2
}